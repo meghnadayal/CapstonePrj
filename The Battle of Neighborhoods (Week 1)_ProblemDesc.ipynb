{
    "cells": [
        {
            "metadata": {
                "collapsed": true
            },
            "cell_type": "markdown",
            "source": "# Introduction\n\nNew York City's demographics show that it is a large and ethnically diverse metropolis. It is the largest city in the United States with a long history of international immigration. New York City is home to nearly 18.5 million people in 2020, the immigrant population of New York is nearly 3.1m. Over the last decade the city has been growing faster than the region. The New York region continues to be by far the leading metropolitan gateway for legal immigrants admitted into the United States.\n\nThroughout its history, New York City has been a major point of entry for immigrants; the term \"melting pot\" was coined to describe densely populated immigrant neighborhoods on the Lower East Side. As many as 800 languages are spoken in New York, making it the most linguistically diverse city in the world. English remains the most widely spoken language, although there are areas in the outer boroughs in which up to 25% of people speak English as an alternate language, and/or have limited or no English language fluency. English is least spoken in neighborhoods such as Flushing, Sunset Park, and Corona.\n\nWith it's diverse culture , comes diverse food items. There are many resturants in New york City, each beloning to different categories like Chinese , Indian , French etc.\n\nSo as part of this project , we will list and visualize all major parts of New York City that has great Indian Restaurants and which areas have a scope to open new Indian Restaurants."
        },
        {
            "metadata": {},
            "cell_type": "markdown",
            "source": "# Data\n\n\nData For this project we need the following data :\n\nNew York City data that contains list Boroughs, Neighborhoods along with their latitude and longitude. Data source : https://cocl.us/new_york_dataset Description : This data set contains the required information. And we will use this data set to explore various neighborhoods of new york city. Indian resturants in each neighborhood of new york city. Data source : Fousquare API Description : By using this api we will get all the venues in each neighborhood. We can filter these venues to get only Indian restaurants. GeoSpace data Data source : https://data.cityofnewyork.us/City-Government/Borough-Boundaries/tqmj-j8zm Description : By using this geo space data we will get the New york Borough boundaries that will help us visualize choropleth map."
        },
        {
            "metadata": {},
            "cell_type": "markdown",
            "source": "# Approach\n\n    * Collect the new york city data from https://cocl.us/new_york_dataset\n    * Using FourSquare API we will find all venues for each neighborhood.\n    * Filter out all venues that are Indian Resturants.\n    * Find rating , tips and like count for each Indian Resturants using FourSquare API.\n    * Using rating for each resturant , we will sort that data.\n    * Visualize the Ranking of neighborhoods using folium library(python)\n    "
        },
        {
            "metadata": {},
            "cell_type": "markdown",
            "source": "# Queries that can be answered using above dataset\n\n    * What is best location in New York City for Indian Cuisine ?\n    * Which areas have potential Indian Restaurant Market ?\n    * Which all areas lack Indian Restaurants ?\n    * Which is the best place to stay if I prefer Indian Cuisine ?"
        },
        {
            "metadata": {},
            "cell_type": "code",
            "source": "",
            "execution_count": null,
            "outputs": []
        }
    ],
    "metadata": {
        "kernelspec": {
            "name": "python3",
            "display_name": "Python 3.7",
            "language": "python"
        },
        "language_info": {
            "name": "python",
            "version": "3.7.10",
            "mimetype": "text/x-python",
            "codemirror_mode": {
                "name": "ipython",
                "version": 3
            },
            "pygments_lexer": "ipython3",
            "nbconvert_exporter": "python",
            "file_extension": ".py"
        }
    },
    "nbformat": 4,
    "nbformat_minor": 1
}